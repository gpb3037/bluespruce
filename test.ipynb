{
 "cells": [
  {
   "cell_type": "markdown",
   "metadata": {
    "vscode": {
     "languageId": "plaintext"
    }
   },
   "source": [
    "### Official State Tree of Colorado\n",
    "#### The magnificent Colorado blue spruce (Picea pungens) is the official state tree of Colorado. School children of the state voted to name blue spruce as the state tree on Arbor Day in 1892, however it was not until 1939 that the Colorado blue spruce was officially adopted as the tree symbol of Colorado.\n",
    "### Known for its stately, majestic, symmetrical form and its beautiful silver-blue color, the Colorado blue spruce was first discovered on Pikes Peak in 1862 by botanist C.C. Parry, and named by George Engelmann in 1879. Blue spruce (Picea pungens Engelm) is also the state tree of Utah.\n",
    "### Sometimes called the silver spruce, the Colorado blue spruce ranges in color from green to blue to silver. In Colorado, it grows in small, scattered groves or singly among ponderosa pine, Douglas fir, alpine fir and Englemann spruce.\n"
   ]
  },
  {
   "cell_type": "code",
   "execution_count": null,
   "metadata": {},
   "outputs": [],
   "source": [
    "import rioxarray as rxr\n",
    "\n",
    "soil_url_template = (\n",
    "    \"http://hydrology....POLARIS\n",
    "    \"/ph\"\n",
    "    \"/mean\"\n",
    "    \"60_100\"\n",
    "    \"/lat{min_lat}{max_la}_lon{max_lon}{min_lon}.tif   # because negative vs W listing\n",
    ")\n",
    "\n",
    "min_lat=26\n",
    "min_lon=80\n",
    "\n",
    "soil_da\n"
   ]
  }
 ],
 "metadata": {
  "kernelspec": {
   "display_name": "earth-analytics-python",
   "language": "python",
   "name": "python3"
  },
  "language_info": {
   "name": "python",
   "version": "3.11.10"
  }
 },
 "nbformat": 4,
 "nbformat_minor": 2
}
