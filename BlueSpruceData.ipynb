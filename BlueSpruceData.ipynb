{
 "cells": [
  {
   "cell_type": "markdown",
   "metadata": {
    "vscode": {
     "languageId": "plaintext"
    }
   },
   "source": [
    "### Official State Tree of Colorado\n",
    "##### The magnificent Colorado blue spruce (Picea pungens) is the official state tree of Colorado. School children of the state voted to name blue spruce as the state tree on Arbor Day in 1892, however it was not until 1939 that the Colorado blue spruce was officially adopted as the tree symbol of Colorado.\n",
    "##### Known for its stately, majestic, symmetrical form and its beautiful silver-blue color, the Colorado blue spruce was first discovered on Pikes Peak in 1862 by botanist C.C. Parry, and named by George Engelmann in 1879. Blue spruce (Picea pungens Engelm) is also the state tree of Utah.\n",
    "##### Sometimes called the silver spruce, the Colorado blue spruce ranges in color from green to blue to silver. In Colorado, it grows in small, scattered groves or singly among ponderosa pine, Douglas fir, alpine fir and Englemann spruce.\n",
    "source https://statesymbolsusa.org/symbol/colorado/tree/colorado-blue-spruce\n",
    "\n",
    "#### Habitat\n",
    "##### Native Range\n",
    "Blue spruce is primarily native to the central and southern Rocky Mountains of the western United States. Its range extends from latitude 33° 50' to 48° 54' N. and from longitude 104° 45' to 114° 00' W.; the Rocky Mountain region in high mountains from southern and western Wyoming, eastern Idaho, south to Utah, northern and eastern Arizona, southern New Mexico, to central Colorado. It has been reported in isolated locations in north-central Montana.\n",
    "\n",
    "##### Climate\n",
    "Blue spruce grows in a climatic zone that is generally cool and humid, with most of the annual precipitation occurring in the summer.\n",
    "\n",
    "Mean annual temperatures where blue spruce is most commonly found in Colorado and the Southwest range from 3.9° to 6.1° C (39° to 43° F), with a January mean of -3.9° to -2.8° C (25° to 27° F) and a July mean of 13.9° to 15.0° C (57° to 59° F). Mean minimum January temperatures range from -11.1° to 8.9° C (12° to 16° F) and mean maximum July temperatures range from 21.1° to 22.2° C (70° to 72° F). The frost-free period from June to August is about 55 to 60 days (5,69).\n",
    "\n",
    "Average annual precipitation varies from 460 to 610 mm (18 to 24 in). Winter is usually precipitation-deficient, with less than 20 percent of the annual moisture falling from December through March. Fifty percent of the annual precipitation is rain that falls during the growing season (5,69).\n",
    "\n",
    "Although blue spruce grows best with abundant moisture, this species can withstand drought better than any other spruce (36). It can also withstand extremely low temperatures (-40° C; -40° F), and it is more resistant to high insolation and frost damage than other associated species.\n",
    "\n",
    "##### Soils and Topography\n",
    "Basic information on soils and landforms needed for silvicultural decisions for blue spruce is limited. Both soils and landforms are very complex. Soils are young and vary widely in texture and physical and chemical properties according to the bedrock from which they originate. Glacial deposits, alluvium from streams, and material weathered in place from country rock are predominant, however (2). The pH is 6.8 to 7.2, neutral to slightly alkaline (21,62). The soils on which blue spruce grows naturally are in the order Mollisols and, to a lesser extent, in the orders Histosols and Inceptisols.\n",
    "\n",
    "Blue spruce is found on gentle upland and subirrigated slopes, in well-watered tributary drainages, extending down intermittent streams, and on lower northerly slopes. Sites on which blue spruce grows are more moist than those of Rocky Mountain ponderosa pine (Pinus ponderosa var. scopulorum) and warmer than those of Engelmann spruce (Picea engelmannii) and subalpine fir (Abies lasiocarpa) (2,65). In Utah, blue spruce is considered a pioneer tree species on wet soils (21).\n",
    "\n",
    "Blue spruce is characteristically found at elevations from 1830 to 2740 m (6,000 to 9,000 ft) in its northern range and from 2130 to 3050 m (7,000 to 10,000 ft) in its southern range (27,65\n",
    "\n",
    "source: https://www.srs.fs.usda.gov/pubs/misc/ag_654/volume_1/picea/pungens.htm"
   ]
  },
  {
   "cell_type": "markdown",
   "metadata": {},
   "source": [
    "DATA to gather\n",
    "from https://www2.census.gov/geo/tiger/TIGER2024/COUNTY/\n",
    "Boulder County Outline \n",
    "Linear and area hydrography\n",
    "At least one soil variable from the POLARIS dataset\n",
    "Elevation from the SRTM (available from the APPEEARS API)\n",
    "At least one climate variable from the MACAv2 dataset, accessible from Climate Toolbox. \n",
    "\n",
    "Possibly helpful https://pygis.io/docs/d_access_census.html\n",
    "Census Data API key is 087d00b52d84075f630f0c4b15e3a0c683e5bdd1 for geba2669@colorado.edu\n",
    "need to pip install census\n",
    "https://medium.com/@wwjiang/exploring-u-s-census-data-with-python-a-step-by-step-guide-to-open-data-analysis-3f729f8033ad"
   ]
  },
  {
   "cell_type": "code",
   "execution_count": 3,
   "metadata": {},
   "outputs": [
    {
     "name": "stdout",
     "output_type": "stream",
     "text": [
      "[['NAME', 'B01003_001E', 'state'], ['Pennsylvania', '12794885', '42'], ['California', '39346023', '06'], ['West Virginia', '1807426', '54'], ['Utah', '3151239', '49'], ['New York', '19514849', '36'], ['District of Columbia', '701974', '11'], ['Alaska', '736990', '02'], ['Florida', '21216924', '12'], ['South Carolina', '5091517', '45'], ['North Dakota', '760394', '38'], ['Maine', '1340825', '23'], ['Georgia', '10516579', '13'], ['Alabama', '4893186', '01'], ['New Hampshire', '1355244', '33'], ['Oregon', '4176346', '41'], ['Wyoming', '581348', '56'], ['Arizona', '7174064', '04'], ['Louisiana', '4664616', '22'], ['Indiana', '6696893', '18'], ['Idaho', '1754367', '16'], ['Connecticut', '3570549', '09'], ['Hawaii', '1420074', '15'], ['Illinois', '12716164', '17'], ['Massachusetts', '6873003', '25'], ['Texas', '28635442', '48'], ['Montana', '1061705', '30'], ['Nebraska', '1923826', '31'], ['Ohio', '11675275', '39'], ['Colorado', '5684926', '08'], ['New Jersey', '8885418', '34'], ['Maryland', '6037624', '24'], ['Virginia', '8509358', '51'], ['Vermont', '624340', '50'], ['North Carolina', '10386227', '37'], ['Arkansas', '3011873', '05'], ['Washington', '7512465', '53'], ['Kansas', '2912619', '20'], ['Oklahoma', '3949342', '40'], ['Wisconsin', '5806975', '55'], ['Mississippi', '2981835', '28'], ['Missouri', '6124160', '29'], ['Michigan', '9973907', '26'], ['Rhode Island', '1057798', '44'], ['Minnesota', '5600166', '27'], ['Iowa', '3150011', '19'], ['New Mexico', '2097021', '35'], ['Nevada', '3030281', '32'], ['Delaware', '967679', '10'], ['Puerto Rico', '3255642', '72'], ['Kentucky', '4461952', '21'], ['South Dakota', '879336', '46'], ['Tennessee', '6772268', '47']]\n"
     ]
    }
   ],
   "source": [
    "# this bypasses census module for python\n",
    "import requests\n",
    "\n",
    "api_key = \"087d00b52d84075f630f0c4b15e3a0c683e5bdd1\"\n",
    "url = f\"https://api.census.gov/data/2020/acs/acs5?get=NAME,B01003_001E&for=state:*&key={api_key}\"\n",
    "response = requests.get(url)\n",
    "data = response.json()\n",
    "print(data)"
   ]
  },
  {
   "cell_type": "code",
   "execution_count": 28,
   "metadata": {},
   "outputs": [
    {
     "name": "stdout",
     "output_type": "stream",
     "text": [
      "c:\\Users\\gpaul\\Documents\\GitHub\\bluespruce\n"
     ]
    },
    {
     "ename": "ValueError",
     "evalue": "'bbox' should be a length-4 tuple.",
     "output_type": "error",
     "traceback": [
      "\u001b[1;31m---------------------------------------------------------------------------\u001b[0m",
      "\u001b[1;31mValueError\u001b[0m                                Traceback (most recent call last)",
      "Cell \u001b[1;32mIn[28], line 9\u001b[0m\n\u001b[0;32m      4\u001b[0m cwd \u001b[38;5;241m=\u001b[39m os\u001b[38;5;241m.\u001b[39mgetcwd()\n\u001b[0;32m      6\u001b[0m \u001b[38;5;28mprint\u001b[39m(cwd)\n\u001b[0;32m      8\u001b[0m counties_gdf \u001b[38;5;241m=\u001b[39m (\n\u001b[1;32m----> 9\u001b[0m     \u001b[43mgpd\u001b[49m\u001b[38;5;241;43m.\u001b[39;49m\u001b[43mread_file\u001b[49m\u001b[43m(\u001b[49m\u001b[43mcwd\u001b[49m\u001b[43m,\u001b[49m\u001b[38;5;124;43m\"\u001b[39;49m\u001b[38;5;130;43;01m\\b\u001b[39;49;00m\u001b[38;5;124;43moulder_shapefiles\u001b[39;49m\u001b[38;5;130;43;01m\\t\u001b[39;49;00m\u001b[38;5;124;43ml_2024_us_county.shp\u001b[39;49m\u001b[38;5;124;43m\"\u001b[39;49m\u001b[43m)\u001b[49m\n\u001b[0;32m     10\u001b[0m     \u001b[38;5;241m.\u001b[39mrename(columns\u001b[38;5;241m=\u001b[39m{\n\u001b[0;32m     11\u001b[0m         \u001b[38;5;124m'\u001b[39m\u001b[38;5;124mCOUNTY_NAME\u001b[39m\u001b[38;5;124m'\u001b[39m: \u001b[38;5;124m'\u001b[39m\u001b[38;5;124mname\u001b[39m\u001b[38;5;124m'\u001b[39m,\n\u001b[0;32m     12\u001b[0m         \u001b[38;5;124m'\u001b[39m\u001b[38;5;124mSHAPE_AREA\u001b[39m\u001b[38;5;124m'\u001b[39m: \u001b[38;5;124m'\u001b[39m\u001b[38;5;124marea\u001b[39m\u001b[38;5;124m'\u001b[39m})\n\u001b[0;32m     13\u001b[0m     [[\u001b[38;5;124m'\u001b[39m\u001b[38;5;124mname\u001b[39m\u001b[38;5;124m'\u001b[39m, \u001b[38;5;124m'\u001b[39m\u001b[38;5;124marea\u001b[39m\u001b[38;5;124m'\u001b[39m, \u001b[38;5;124m'\u001b[39m\u001b[38;5;124mgeometry\u001b[39m\u001b[38;5;124m'\u001b[39m]]\n\u001b[0;32m     14\u001b[0m )\n\u001b[0;32m     15\u001b[0m counties_gdf\u001b[38;5;241m.\u001b[39mhead\n\u001b[0;32m     17\u001b[0m \u001b[38;5;28;01mbreak\u001b[39;00m\n",
      "File \u001b[1;32mc:\\Users\\gpaul\\miniconda3\\envs\\earth-analytics-python\\Lib\\site-packages\\geopandas\\io\\file.py:294\u001b[0m, in \u001b[0;36m_read_file\u001b[1;34m(filename, bbox, mask, columns, rows, engine, **kwargs)\u001b[0m\n\u001b[0;32m    291\u001b[0m             from_bytes \u001b[38;5;241m=\u001b[39m \u001b[38;5;28;01mTrue\u001b[39;00m\n\u001b[0;32m    293\u001b[0m \u001b[38;5;28;01mif\u001b[39;00m engine \u001b[38;5;241m==\u001b[39m \u001b[38;5;124m\"\u001b[39m\u001b[38;5;124mpyogrio\u001b[39m\u001b[38;5;124m\"\u001b[39m:\n\u001b[1;32m--> 294\u001b[0m     \u001b[38;5;28;01mreturn\u001b[39;00m \u001b[43m_read_file_pyogrio\u001b[49m\u001b[43m(\u001b[49m\n\u001b[0;32m    295\u001b[0m \u001b[43m        \u001b[49m\u001b[43mfilename\u001b[49m\u001b[43m,\u001b[49m\u001b[43m \u001b[49m\u001b[43mbbox\u001b[49m\u001b[38;5;241;43m=\u001b[39;49m\u001b[43mbbox\u001b[49m\u001b[43m,\u001b[49m\u001b[43m \u001b[49m\u001b[43mmask\u001b[49m\u001b[38;5;241;43m=\u001b[39;49m\u001b[43mmask\u001b[49m\u001b[43m,\u001b[49m\u001b[43m \u001b[49m\u001b[43mcolumns\u001b[49m\u001b[38;5;241;43m=\u001b[39;49m\u001b[43mcolumns\u001b[49m\u001b[43m,\u001b[49m\u001b[43m \u001b[49m\u001b[43mrows\u001b[49m\u001b[38;5;241;43m=\u001b[39;49m\u001b[43mrows\u001b[49m\u001b[43m,\u001b[49m\u001b[43m \u001b[49m\u001b[38;5;241;43m*\u001b[39;49m\u001b[38;5;241;43m*\u001b[39;49m\u001b[43mkwargs\u001b[49m\n\u001b[0;32m    296\u001b[0m \u001b[43m    \u001b[49m\u001b[43m)\u001b[49m\n\u001b[0;32m    298\u001b[0m \u001b[38;5;28;01melif\u001b[39;00m engine \u001b[38;5;241m==\u001b[39m \u001b[38;5;124m\"\u001b[39m\u001b[38;5;124mfiona\u001b[39m\u001b[38;5;124m\"\u001b[39m:\n\u001b[0;32m    299\u001b[0m     \u001b[38;5;28;01mif\u001b[39;00m pd\u001b[38;5;241m.\u001b[39mapi\u001b[38;5;241m.\u001b[39mtypes\u001b[38;5;241m.\u001b[39mis_file_like(filename):\n",
      "File \u001b[1;32mc:\\Users\\gpaul\\miniconda3\\envs\\earth-analytics-python\\Lib\\site-packages\\geopandas\\io\\file.py:492\u001b[0m, in \u001b[0;36m_read_file_pyogrio\u001b[1;34m(path_or_bytes, bbox, mask, rows, **kwargs)\u001b[0m\n\u001b[0;32m    490\u001b[0m         bbox \u001b[38;5;241m=\u001b[39m bbox\u001b[38;5;241m.\u001b[39mbounds\n\u001b[0;32m    491\u001b[0m     \u001b[38;5;28;01mif\u001b[39;00m \u001b[38;5;28mlen\u001b[39m(bbox) \u001b[38;5;241m!=\u001b[39m \u001b[38;5;241m4\u001b[39m:\n\u001b[1;32m--> 492\u001b[0m         \u001b[38;5;28;01mraise\u001b[39;00m \u001b[38;5;167;01mValueError\u001b[39;00m(\u001b[38;5;124m\"\u001b[39m\u001b[38;5;124m'\u001b[39m\u001b[38;5;124mbbox\u001b[39m\u001b[38;5;124m'\u001b[39m\u001b[38;5;124m should be a length-4 tuple.\u001b[39m\u001b[38;5;124m\"\u001b[39m)\n\u001b[0;32m    494\u001b[0m \u001b[38;5;28;01mif\u001b[39;00m mask \u001b[38;5;129;01mis\u001b[39;00m \u001b[38;5;129;01mnot\u001b[39;00m \u001b[38;5;28;01mNone\u001b[39;00m:\n\u001b[0;32m    495\u001b[0m     \u001b[38;5;66;03m# NOTE: mask cannot be used at same time as bbox keyword\u001b[39;00m\n\u001b[0;32m    496\u001b[0m     \u001b[38;5;28;01mif\u001b[39;00m \u001b[38;5;28misinstance\u001b[39m(mask, (GeoDataFrame, GeoSeries)):\n",
      "\u001b[1;31mValueError\u001b[0m: 'bbox' should be a length-4 tuple."
     ]
    }
   ],
   "source": [
    "import os\n",
    "# Open up the counties boundaries\n",
    "\n",
    "cwd = os.getcwd()\n",
    "\n",
    "print(cwd)\n",
    "\n",
    "counties_gdf = (\n",
    "    gpd.read_file(cwd,\"\\boulder_shapefiles\\tl_2024_us_county.shp\")\n",
    "    .rename(columns={\n",
    "        'COUNTY_NAME': 'name',\n",
    "        'SHAPE_AREA': 'area'})\n",
    "    [['name', 'area', 'geometry']]\n",
    ")\n",
    "counties_gdf.head\n",
    "\n",
    "break\n",
    "\n",
    "# We'll name the index so it will match the other data\n",
    "counties_gdf.index.name = 'FIPS'\n",
    "\n",
    "# Plot the ecoregions to check download\n",
    "counties_gdf.plot(edgecolor='black', color='skyblue')"
   ]
  },
  {
   "cell_type": "code",
   "execution_count": 18,
   "metadata": {},
   "outputs": [
    {
     "name": "stdout",
     "output_type": "stream",
     "text": [
      "https://www2.census.gov/geo/tiger/TIGER2024/AREAWATER/AREAWATER/tl_2024_08013.zip\n"
     ]
    }
   ],
   "source": [
    "# Download Files Programmatically\n",
    "# You can programmatically download shapefiles for Boulder County from the Census FTP server:\n",
    "\n",
    "import requests\n",
    "import os\n",
    "\n",
    "# Create a directory to save the shapefiles\n",
    "output_dir = \"boulder_shapefiles\"\n",
    "os.makedirs(output_dir, exist_ok=True)\n",
    "\n",
    "# URLs for AREAWATER and LINEARWATER shapefiles\n",
    "base_url = \"https://www2.census.gov/geo/tiger/TIGER2024\"\n",
    "county_fips = \"08013\"  # FIPS code for Boulder County, Colorado\n",
    "shapeheader = \"tl_2024_\"\n",
    "\n",
    "# Define the shapefile types you want to download\n",
    "shapefile_types = [\"AREAWATER\", \"LINEARWATER\"]\n",
    "\n",
    "# Download shapefiles for each type\n",
    "for shapefile_type in shapefile_types:\n",
    "    file_url = f\"{base_url}/{shapefile_type}/{shapefile_type}/{shapeheader}{county_fips}.zip\"\n",
    "    print(file_url)\n",
    "    break\n",
    "    response = requests.get(file_url)\n",
    "    \n",
    "    if response.status_code == 200:\n",
    "        file_path = os.path.join(output_dir, f\"{shapefile_type}_08013.zip\")\n",
    "        with open(file_path, \"wb\") as f:\n",
    "            f.write(response.content)\n",
    "        print(f\"Downloaded: {file_url}\")\n",
    "    else:\n",
    "        print(f\"Failed to download: {file_url}\")\n",
    "\n"
   ]
  },
  {
   "cell_type": "code",
   "execution_count": 1,
   "metadata": {},
   "outputs": [
    {
     "ename": "ModuleNotFoundError",
     "evalue": "No module named 'census'",
     "output_type": "error",
     "traceback": [
      "\u001b[1;31m---------------------------------------------------------------------------\u001b[0m",
      "\u001b[1;31mModuleNotFoundError\u001b[0m                       Traceback (most recent call last)",
      "Cell \u001b[1;32mIn[1], line 5\u001b[0m\n\u001b[0;32m      3\u001b[0m \u001b[38;5;28;01mimport\u001b[39;00m \u001b[38;5;21;01mpandas\u001b[39;00m \u001b[38;5;28;01mas\u001b[39;00m \u001b[38;5;21;01mpd\u001b[39;00m\n\u001b[0;32m      4\u001b[0m \u001b[38;5;28;01mimport\u001b[39;00m \u001b[38;5;21;01mgeopandas\u001b[39;00m \u001b[38;5;28;01mas\u001b[39;00m \u001b[38;5;21;01mgpd\u001b[39;00m\n\u001b[1;32m----> 5\u001b[0m \u001b[38;5;28;01mfrom\u001b[39;00m \u001b[38;5;21;01mcensus\u001b[39;00m \u001b[38;5;28;01mimport\u001b[39;00m Census  \u001b[38;5;66;03m# not working\u001b[39;00m\n\u001b[0;32m      6\u001b[0m \u001b[38;5;28;01mfrom\u001b[39;00m \u001b[38;5;21;01mus\u001b[39;00m \u001b[38;5;28;01mimport\u001b[39;00m states\n\u001b[0;32m      7\u001b[0m \u001b[38;5;28;01mimport\u001b[39;00m \u001b[38;5;21;01mos\u001b[39;00m\n",
      "\u001b[1;31mModuleNotFoundError\u001b[0m: No module named 'census'"
     ]
    }
   ],
   "source": [
    "# Import modules\n",
    "import matplotlib.pyplot as plt\n",
    "import pandas as pd\n",
    "import geopandas as gpd\n",
    "from census import Census  # not working\n",
    "from us import states\n",
    "import os\n",
    "\n",
    "# Set API key\n",
    "c = Census(\"075f630f0c4b15e3a0c683e5bdd1\")"
   ]
  },
  {
   "cell_type": "code",
   "execution_count": null,
   "metadata": {},
   "outputs": [],
   "source": [
    "import rioxarray as rxr\n",
    "\n",
    "soil_url_template = (\n",
    "    \"http://hydrology....POLARIS\n",
    "    \"/ph\"\n",
    "    \"/mean\"\n",
    "    \"60_100\"\n",
    "    \"/lat{min_lat}{max_la}_lon{max_lon}{min_lon}.tif   # because negative vs W listing\n",
    ")\n",
    "\n",
    "min_lat=26\n",
    "min_lon=80\n",
    "\n",
    "soil_da\n"
   ]
  }
 ],
 "metadata": {
  "kernelspec": {
   "display_name": "earth-analytics-python",
   "language": "python",
   "name": "python3"
  },
  "language_info": {
   "codemirror_mode": {
    "name": "ipython",
    "version": 3
   },
   "file_extension": ".py",
   "mimetype": "text/x-python",
   "name": "python",
   "nbconvert_exporter": "python",
   "pygments_lexer": "ipython3",
   "version": "3.11.10"
  }
 },
 "nbformat": 4,
 "nbformat_minor": 2
}
