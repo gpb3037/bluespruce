{
 "cells": [
  {
   "cell_type": "markdown",
   "metadata": {
    "vscode": {
     "languageId": "plaintext"
    }
   },
   "source": [
    "### Official State Tree of Colorado\n",
    "##### The magnificent Colorado blue spruce (Picea pungens) is the official state tree of Colorado. School children of the state voted to name blue spruce as the state tree on Arbor Day in 1892, however it was not until 1939 that the Colorado blue spruce was officially adopted as the tree symbol of Colorado.\n",
    "##### Known for its stately, majestic, symmetrical form and its beautiful silver-blue color, the Colorado blue spruce was first discovered on Pikes Peak in 1862 by botanist C.C. Parry, and named by George Engelmann in 1879. Blue spruce (Picea pungens Engelm) is also the state tree of Utah.\n",
    "##### Sometimes called the silver spruce, the Colorado blue spruce ranges in color from green to blue to silver. In Colorado, it grows in small, scattered groves or singly among ponderosa pine, Douglas fir, alpine fir and Englemann spruce.\n",
    "source https://statesymbolsusa.org/symbol/colorado/tree/colorado-blue-spruce\n",
    "\n",
    "#### Habitat\n",
    "##### Native Range\n",
    "Blue spruce is primarily native to the central and southern Rocky Mountains of the western United States. Its range extends from latitude 33° 50' to 48° 54' N. and from longitude 104° 45' to 114° 00' W.; the Rocky Mountain region in high mountains from southern and western Wyoming, eastern Idaho, south to Utah, northern and eastern Arizona, southern New Mexico, to central Colorado. It has been reported in isolated locations in north-central Montana.\n",
    "\n",
    "##### Climate\n",
    "Blue spruce grows in a climatic zone that is generally cool and humid, with most of the annual precipitation occurring in the summer.\n",
    "\n",
    "Mean annual temperatures where blue spruce is most commonly found in Colorado and the Southwest range from 3.9° to 6.1° C (39° to 43° F), with a January mean of -3.9° to -2.8° C (25° to 27° F) and a July mean of 13.9° to 15.0° C (57° to 59° F). Mean minimum January temperatures range from -11.1° to 8.9° C (12° to 16° F) and mean maximum July temperatures range from 21.1° to 22.2° C (70° to 72° F). The frost-free period from June to August is about 55 to 60 days (5,69).\n",
    "\n",
    "Average annual precipitation varies from 460 to 610 mm (18 to 24 in). Winter is usually precipitation-deficient, with less than 20 percent of the annual moisture falling from December through March. Fifty percent of the annual precipitation is rain that falls during the growing season (5,69).\n",
    "\n",
    "Although blue spruce grows best with abundant moisture, this species can withstand drought better than any other spruce (36). It can also withstand extremely low temperatures (-40° C; -40° F), and it is more resistant to high insolation and frost damage than other associated species.\n",
    "\n",
    "##### Soils and Topography\n",
    "Basic information on soils and landforms needed for silvicultural decisions for blue spruce is limited. Both soils and landforms are very complex. Soils are young and vary widely in texture and physical and chemical properties according to the bedrock from which they originate. Glacial deposits, alluvium from streams, and material weathered in place from country rock are predominant, however (2). The pH is 6.8 to 7.2, neutral to slightly alkaline (21,62). The soils on which blue spruce grows naturally are in the order Mollisols and, to a lesser extent, in the orders Histosols and Inceptisols.\n",
    "\n",
    "Blue spruce is found on gentle upland and subirrigated slopes, in well-watered tributary drainages, extending down intermittent streams, and on lower northerly slopes. Sites on which blue spruce grows are more moist than those of Rocky Mountain ponderosa pine (Pinus ponderosa var. scopulorum) and warmer than those of Engelmann spruce (Picea engelmannii) and subalpine fir (Abies lasiocarpa) (2,65). In Utah, blue spruce is considered a pioneer tree species on wet soils (21).\n",
    "\n",
    "Blue spruce is characteristically found at elevations from 1830 to 2740 m (6,000 to 9,000 ft) in its northern range and from 2130 to 3050 m (7,000 to 10,000 ft) in its southern range (27,65\n",
    "\n",
    "source: https://www.srs.fs.usda.gov/pubs/misc/ag_654/volume_1/picea/pungens.htm"
   ]
  },
  {
   "cell_type": "markdown",
   "metadata": {},
   "source": [
    "DATA to gather\n",
    "from https://www2.census.gov/geo/tiger/TIGER2024/COUNTY/\n",
    "Boulder County Outline \n",
    "Linear and area hydrography\n",
    "At least one soil variable from the POLARIS dataset\n",
    "Elevation from the SRTM (available from the APPEEARS API)\n",
    "At least one climate variable from the MACAv2 dataset, accessible from Climate Toolbox. \n",
    "\n",
    "Possibly helpful https://pygis.io/docs/d_access_census.html\n",
    "Census Data API key is 087d00b52d84075f630f0c4b15e3a0c683e5bdd1 for geba2669@colorado.edu\n",
    "need to pip install census\n",
    "https://medium.com/@wwjiang/exploring-u-s-census-data-with-python-a-step-by-step-guide-to-open-data-analysis-3f729f8033ad"
   ]
  },
  {
   "cell_type": "code",
   "execution_count": 2,
   "metadata": {},
   "outputs": [
    {
     "name": "stdout",
     "output_type": "stream",
     "text": [
      "c:\\Users\\gpaul\\Documents\\GitHub\\bluespruce\n",
      "c:\\Users\\gpaul\\Documents\\GitHub\\bluespruce\\tl_2024_us_county.shp\n"
     ]
    },
    {
     "ename": "DataSourceError",
     "evalue": "Unable to open c:\\Users\\gpaul\\Documents\\GitHub\\bluespruce\\tl_2024_us_county.shx or c:\\Users\\gpaul\\Documents\\GitHub\\bluespruce\\tl_2024_us_county.SHX. Set SHAPE_RESTORE_SHX config option to YES to restore or create it.",
     "output_type": "error",
     "traceback": [
      "\u001b[1;31m---------------------------------------------------------------------------\u001b[0m",
      "\u001b[1;31mDataSourceError\u001b[0m                           Traceback (most recent call last)",
      "Cell \u001b[1;32mIn[2], line 18\u001b[0m\n\u001b[0;32m     13\u001b[0m a_path \u001b[38;5;241m=\u001b[39m os\u001b[38;5;241m.\u001b[39mpath\u001b[38;5;241m.\u001b[39mjoin(cwd,\u001b[38;5;124m'\u001b[39m\u001b[38;5;124mtl_2024_us_county.shp\u001b[39m\u001b[38;5;124m'\u001b[39m)\n\u001b[0;32m     15\u001b[0m \u001b[38;5;28mprint\u001b[39m(a_path)\n\u001b[0;32m     17\u001b[0m counties_gdf \u001b[38;5;241m=\u001b[39m (\n\u001b[1;32m---> 18\u001b[0m      \u001b[43mgpd\u001b[49m\u001b[38;5;241;43m.\u001b[39;49m\u001b[43mread_file\u001b[49m\u001b[43m(\u001b[49m\u001b[43ma_path\u001b[49m\u001b[43m)\u001b[49m\n\u001b[0;32m     19\u001b[0m ) \n\u001b[0;32m     21\u001b[0m counties_gdf\u001b[38;5;241m.\u001b[39mhead\n\u001b[0;32m     24\u001b[0m \u001b[38;5;66;03m# # We'll name the index so it will match the other data\u001b[39;00m\n\u001b[0;32m     25\u001b[0m \u001b[38;5;66;03m# counties_gdf.index.name = 'FIPS'\u001b[39;00m\n\u001b[0;32m     26\u001b[0m \n\u001b[0;32m     27\u001b[0m \u001b[38;5;66;03m# # Plot the ecoregions to check download\u001b[39;00m\n\u001b[0;32m     28\u001b[0m \u001b[38;5;66;03m# counties_gdf.plot(edgecolor='black', color='skyblue')\u001b[39;00m\n",
      "File \u001b[1;32mc:\\Users\\gpaul\\miniconda3\\envs\\earth-analytics-python\\Lib\\site-packages\\geopandas\\io\\file.py:294\u001b[0m, in \u001b[0;36m_read_file\u001b[1;34m(filename, bbox, mask, columns, rows, engine, **kwargs)\u001b[0m\n\u001b[0;32m    291\u001b[0m             from_bytes \u001b[38;5;241m=\u001b[39m \u001b[38;5;28;01mTrue\u001b[39;00m\n\u001b[0;32m    293\u001b[0m \u001b[38;5;28;01mif\u001b[39;00m engine \u001b[38;5;241m==\u001b[39m \u001b[38;5;124m\"\u001b[39m\u001b[38;5;124mpyogrio\u001b[39m\u001b[38;5;124m\"\u001b[39m:\n\u001b[1;32m--> 294\u001b[0m     \u001b[38;5;28;01mreturn\u001b[39;00m \u001b[43m_read_file_pyogrio\u001b[49m\u001b[43m(\u001b[49m\n\u001b[0;32m    295\u001b[0m \u001b[43m        \u001b[49m\u001b[43mfilename\u001b[49m\u001b[43m,\u001b[49m\u001b[43m \u001b[49m\u001b[43mbbox\u001b[49m\u001b[38;5;241;43m=\u001b[39;49m\u001b[43mbbox\u001b[49m\u001b[43m,\u001b[49m\u001b[43m \u001b[49m\u001b[43mmask\u001b[49m\u001b[38;5;241;43m=\u001b[39;49m\u001b[43mmask\u001b[49m\u001b[43m,\u001b[49m\u001b[43m \u001b[49m\u001b[43mcolumns\u001b[49m\u001b[38;5;241;43m=\u001b[39;49m\u001b[43mcolumns\u001b[49m\u001b[43m,\u001b[49m\u001b[43m \u001b[49m\u001b[43mrows\u001b[49m\u001b[38;5;241;43m=\u001b[39;49m\u001b[43mrows\u001b[49m\u001b[43m,\u001b[49m\u001b[43m \u001b[49m\u001b[38;5;241;43m*\u001b[39;49m\u001b[38;5;241;43m*\u001b[39;49m\u001b[43mkwargs\u001b[49m\n\u001b[0;32m    296\u001b[0m \u001b[43m    \u001b[49m\u001b[43m)\u001b[49m\n\u001b[0;32m    298\u001b[0m \u001b[38;5;28;01melif\u001b[39;00m engine \u001b[38;5;241m==\u001b[39m \u001b[38;5;124m\"\u001b[39m\u001b[38;5;124mfiona\u001b[39m\u001b[38;5;124m\"\u001b[39m:\n\u001b[0;32m    299\u001b[0m     \u001b[38;5;28;01mif\u001b[39;00m pd\u001b[38;5;241m.\u001b[39mapi\u001b[38;5;241m.\u001b[39mtypes\u001b[38;5;241m.\u001b[39mis_file_like(filename):\n",
      "File \u001b[1;32mc:\\Users\\gpaul\\miniconda3\\envs\\earth-analytics-python\\Lib\\site-packages\\geopandas\\io\\file.py:547\u001b[0m, in \u001b[0;36m_read_file_pyogrio\u001b[1;34m(path_or_bytes, bbox, mask, rows, **kwargs)\u001b[0m\n\u001b[0;32m    538\u001b[0m     warnings\u001b[38;5;241m.\u001b[39mwarn(\n\u001b[0;32m    539\u001b[0m         \u001b[38;5;124m\"\u001b[39m\u001b[38;5;124mThe \u001b[39m\u001b[38;5;124m'\u001b[39m\u001b[38;5;124minclude_fields\u001b[39m\u001b[38;5;124m'\u001b[39m\u001b[38;5;124m and \u001b[39m\u001b[38;5;124m'\u001b[39m\u001b[38;5;124mignore_fields\u001b[39m\u001b[38;5;124m'\u001b[39m\u001b[38;5;124m keywords are deprecated, and \u001b[39m\u001b[38;5;124m\"\u001b[39m\n\u001b[0;32m    540\u001b[0m         \u001b[38;5;124m\"\u001b[39m\u001b[38;5;124mwill be removed in a future release. You can use the \u001b[39m\u001b[38;5;124m'\u001b[39m\u001b[38;5;124mcolumns\u001b[39m\u001b[38;5;124m'\u001b[39m\u001b[38;5;124m keyword \u001b[39m\u001b[38;5;124m\"\u001b[39m\n\u001b[1;32m   (...)\u001b[0m\n\u001b[0;32m    543\u001b[0m         stacklevel\u001b[38;5;241m=\u001b[39m\u001b[38;5;241m3\u001b[39m,\n\u001b[0;32m    544\u001b[0m     )\n\u001b[0;32m    545\u001b[0m     kwargs[\u001b[38;5;124m\"\u001b[39m\u001b[38;5;124mcolumns\u001b[39m\u001b[38;5;124m\"\u001b[39m] \u001b[38;5;241m=\u001b[39m kwargs\u001b[38;5;241m.\u001b[39mpop(\u001b[38;5;124m\"\u001b[39m\u001b[38;5;124minclude_fields\u001b[39m\u001b[38;5;124m\"\u001b[39m)\n\u001b[1;32m--> 547\u001b[0m \u001b[38;5;28;01mreturn\u001b[39;00m \u001b[43mpyogrio\u001b[49m\u001b[38;5;241;43m.\u001b[39;49m\u001b[43mread_dataframe\u001b[49m\u001b[43m(\u001b[49m\u001b[43mpath_or_bytes\u001b[49m\u001b[43m,\u001b[49m\u001b[43m \u001b[49m\u001b[43mbbox\u001b[49m\u001b[38;5;241;43m=\u001b[39;49m\u001b[43mbbox\u001b[49m\u001b[43m,\u001b[49m\u001b[43m \u001b[49m\u001b[38;5;241;43m*\u001b[39;49m\u001b[38;5;241;43m*\u001b[39;49m\u001b[43mkwargs\u001b[49m\u001b[43m)\u001b[49m\n",
      "File \u001b[1;32mc:\\Users\\gpaul\\miniconda3\\envs\\earth-analytics-python\\Lib\\site-packages\\pyogrio\\geopandas.py:265\u001b[0m, in \u001b[0;36mread_dataframe\u001b[1;34m(path_or_buffer, layer, encoding, columns, read_geometry, force_2d, skip_features, max_features, where, bbox, mask, fids, sql, sql_dialect, fid_as_index, use_arrow, on_invalid, arrow_to_pandas_kwargs, **kwargs)\u001b[0m\n\u001b[0;32m    260\u001b[0m \u001b[38;5;28;01mif\u001b[39;00m \u001b[38;5;129;01mnot\u001b[39;00m use_arrow:\n\u001b[0;32m    261\u001b[0m     \u001b[38;5;66;03m# For arrow, datetimes are read as is.\u001b[39;00m\n\u001b[0;32m    262\u001b[0m     \u001b[38;5;66;03m# For numpy IO, datetimes are read as string values to preserve timezone info\u001b[39;00m\n\u001b[0;32m    263\u001b[0m     \u001b[38;5;66;03m# as numpy does not directly support timezones.\u001b[39;00m\n\u001b[0;32m    264\u001b[0m     kwargs[\u001b[38;5;124m\"\u001b[39m\u001b[38;5;124mdatetime_as_string\u001b[39m\u001b[38;5;124m\"\u001b[39m] \u001b[38;5;241m=\u001b[39m \u001b[38;5;28;01mTrue\u001b[39;00m\n\u001b[1;32m--> 265\u001b[0m result \u001b[38;5;241m=\u001b[39m \u001b[43mread_func\u001b[49m\u001b[43m(\u001b[49m\n\u001b[0;32m    266\u001b[0m \u001b[43m    \u001b[49m\u001b[43mpath_or_buffer\u001b[49m\u001b[43m,\u001b[49m\n\u001b[0;32m    267\u001b[0m \u001b[43m    \u001b[49m\u001b[43mlayer\u001b[49m\u001b[38;5;241;43m=\u001b[39;49m\u001b[43mlayer\u001b[49m\u001b[43m,\u001b[49m\n\u001b[0;32m    268\u001b[0m \u001b[43m    \u001b[49m\u001b[43mencoding\u001b[49m\u001b[38;5;241;43m=\u001b[39;49m\u001b[43mencoding\u001b[49m\u001b[43m,\u001b[49m\n\u001b[0;32m    269\u001b[0m \u001b[43m    \u001b[49m\u001b[43mcolumns\u001b[49m\u001b[38;5;241;43m=\u001b[39;49m\u001b[43mcolumns\u001b[49m\u001b[43m,\u001b[49m\n\u001b[0;32m    270\u001b[0m \u001b[43m    \u001b[49m\u001b[43mread_geometry\u001b[49m\u001b[38;5;241;43m=\u001b[39;49m\u001b[43mread_geometry\u001b[49m\u001b[43m,\u001b[49m\n\u001b[0;32m    271\u001b[0m \u001b[43m    \u001b[49m\u001b[43mforce_2d\u001b[49m\u001b[38;5;241;43m=\u001b[39;49m\u001b[43mgdal_force_2d\u001b[49m\u001b[43m,\u001b[49m\n\u001b[0;32m    272\u001b[0m \u001b[43m    \u001b[49m\u001b[43mskip_features\u001b[49m\u001b[38;5;241;43m=\u001b[39;49m\u001b[43mskip_features\u001b[49m\u001b[43m,\u001b[49m\n\u001b[0;32m    273\u001b[0m \u001b[43m    \u001b[49m\u001b[43mmax_features\u001b[49m\u001b[38;5;241;43m=\u001b[39;49m\u001b[43mmax_features\u001b[49m\u001b[43m,\u001b[49m\n\u001b[0;32m    274\u001b[0m \u001b[43m    \u001b[49m\u001b[43mwhere\u001b[49m\u001b[38;5;241;43m=\u001b[39;49m\u001b[43mwhere\u001b[49m\u001b[43m,\u001b[49m\n\u001b[0;32m    275\u001b[0m \u001b[43m    \u001b[49m\u001b[43mbbox\u001b[49m\u001b[38;5;241;43m=\u001b[39;49m\u001b[43mbbox\u001b[49m\u001b[43m,\u001b[49m\n\u001b[0;32m    276\u001b[0m \u001b[43m    \u001b[49m\u001b[43mmask\u001b[49m\u001b[38;5;241;43m=\u001b[39;49m\u001b[43mmask\u001b[49m\u001b[43m,\u001b[49m\n\u001b[0;32m    277\u001b[0m \u001b[43m    \u001b[49m\u001b[43mfids\u001b[49m\u001b[38;5;241;43m=\u001b[39;49m\u001b[43mfids\u001b[49m\u001b[43m,\u001b[49m\n\u001b[0;32m    278\u001b[0m \u001b[43m    \u001b[49m\u001b[43msql\u001b[49m\u001b[38;5;241;43m=\u001b[39;49m\u001b[43msql\u001b[49m\u001b[43m,\u001b[49m\n\u001b[0;32m    279\u001b[0m \u001b[43m    \u001b[49m\u001b[43msql_dialect\u001b[49m\u001b[38;5;241;43m=\u001b[39;49m\u001b[43msql_dialect\u001b[49m\u001b[43m,\u001b[49m\n\u001b[0;32m    280\u001b[0m \u001b[43m    \u001b[49m\u001b[43mreturn_fids\u001b[49m\u001b[38;5;241;43m=\u001b[39;49m\u001b[43mfid_as_index\u001b[49m\u001b[43m,\u001b[49m\n\u001b[0;32m    281\u001b[0m \u001b[43m    \u001b[49m\u001b[38;5;241;43m*\u001b[39;49m\u001b[38;5;241;43m*\u001b[39;49m\u001b[43mkwargs\u001b[49m\u001b[43m,\u001b[49m\n\u001b[0;32m    282\u001b[0m \u001b[43m\u001b[49m\u001b[43m)\u001b[49m\n\u001b[0;32m    284\u001b[0m \u001b[38;5;28;01mif\u001b[39;00m use_arrow:\n\u001b[0;32m    285\u001b[0m     meta, table \u001b[38;5;241m=\u001b[39m result\n",
      "File \u001b[1;32mc:\\Users\\gpaul\\miniconda3\\envs\\earth-analytics-python\\Lib\\site-packages\\pyogrio\\raw.py:198\u001b[0m, in \u001b[0;36mread\u001b[1;34m(path_or_buffer, layer, encoding, columns, read_geometry, force_2d, skip_features, max_features, where, bbox, mask, fids, sql, sql_dialect, return_fids, datetime_as_string, **kwargs)\u001b[0m\n\u001b[0;32m     59\u001b[0m \u001b[38;5;250m\u001b[39m\u001b[38;5;124;03m\"\"\"Read OGR data source into numpy arrays.\u001b[39;00m\n\u001b[0;32m     60\u001b[0m \n\u001b[0;32m     61\u001b[0m \u001b[38;5;124;03mIMPORTANT: non-linear geometry types (e.g., MultiSurface) are converted\u001b[39;00m\n\u001b[1;32m   (...)\u001b[0m\n\u001b[0;32m    194\u001b[0m \n\u001b[0;32m    195\u001b[0m \u001b[38;5;124;03m\"\"\"\u001b[39;00m\n\u001b[0;32m    196\u001b[0m dataset_kwargs \u001b[38;5;241m=\u001b[39m _preprocess_options_key_value(kwargs) \u001b[38;5;28;01mif\u001b[39;00m kwargs \u001b[38;5;28;01melse\u001b[39;00m {}\n\u001b[1;32m--> 198\u001b[0m \u001b[38;5;28;01mreturn\u001b[39;00m \u001b[43mogr_read\u001b[49m\u001b[43m(\u001b[49m\n\u001b[0;32m    199\u001b[0m \u001b[43m    \u001b[49m\u001b[43mget_vsi_path_or_buffer\u001b[49m\u001b[43m(\u001b[49m\u001b[43mpath_or_buffer\u001b[49m\u001b[43m)\u001b[49m\u001b[43m,\u001b[49m\n\u001b[0;32m    200\u001b[0m \u001b[43m    \u001b[49m\u001b[43mlayer\u001b[49m\u001b[38;5;241;43m=\u001b[39;49m\u001b[43mlayer\u001b[49m\u001b[43m,\u001b[49m\n\u001b[0;32m    201\u001b[0m \u001b[43m    \u001b[49m\u001b[43mencoding\u001b[49m\u001b[38;5;241;43m=\u001b[39;49m\u001b[43mencoding\u001b[49m\u001b[43m,\u001b[49m\n\u001b[0;32m    202\u001b[0m \u001b[43m    \u001b[49m\u001b[43mcolumns\u001b[49m\u001b[38;5;241;43m=\u001b[39;49m\u001b[43mcolumns\u001b[49m\u001b[43m,\u001b[49m\n\u001b[0;32m    203\u001b[0m \u001b[43m    \u001b[49m\u001b[43mread_geometry\u001b[49m\u001b[38;5;241;43m=\u001b[39;49m\u001b[43mread_geometry\u001b[49m\u001b[43m,\u001b[49m\n\u001b[0;32m    204\u001b[0m \u001b[43m    \u001b[49m\u001b[43mforce_2d\u001b[49m\u001b[38;5;241;43m=\u001b[39;49m\u001b[43mforce_2d\u001b[49m\u001b[43m,\u001b[49m\n\u001b[0;32m    205\u001b[0m \u001b[43m    \u001b[49m\u001b[43mskip_features\u001b[49m\u001b[38;5;241;43m=\u001b[39;49m\u001b[43mskip_features\u001b[49m\u001b[43m,\u001b[49m\n\u001b[0;32m    206\u001b[0m \u001b[43m    \u001b[49m\u001b[43mmax_features\u001b[49m\u001b[38;5;241;43m=\u001b[39;49m\u001b[43mmax_features\u001b[49m\u001b[43m \u001b[49m\u001b[38;5;129;43;01mor\u001b[39;49;00m\u001b[43m \u001b[49m\u001b[38;5;241;43m0\u001b[39;49m\u001b[43m,\u001b[49m\n\u001b[0;32m    207\u001b[0m \u001b[43m    \u001b[49m\u001b[43mwhere\u001b[49m\u001b[38;5;241;43m=\u001b[39;49m\u001b[43mwhere\u001b[49m\u001b[43m,\u001b[49m\n\u001b[0;32m    208\u001b[0m \u001b[43m    \u001b[49m\u001b[43mbbox\u001b[49m\u001b[38;5;241;43m=\u001b[39;49m\u001b[43mbbox\u001b[49m\u001b[43m,\u001b[49m\n\u001b[0;32m    209\u001b[0m \u001b[43m    \u001b[49m\u001b[43mmask\u001b[49m\u001b[38;5;241;43m=\u001b[39;49m\u001b[43m_mask_to_wkb\u001b[49m\u001b[43m(\u001b[49m\u001b[43mmask\u001b[49m\u001b[43m)\u001b[49m\u001b[43m,\u001b[49m\n\u001b[0;32m    210\u001b[0m \u001b[43m    \u001b[49m\u001b[43mfids\u001b[49m\u001b[38;5;241;43m=\u001b[39;49m\u001b[43mfids\u001b[49m\u001b[43m,\u001b[49m\n\u001b[0;32m    211\u001b[0m \u001b[43m    \u001b[49m\u001b[43msql\u001b[49m\u001b[38;5;241;43m=\u001b[39;49m\u001b[43msql\u001b[49m\u001b[43m,\u001b[49m\n\u001b[0;32m    212\u001b[0m \u001b[43m    \u001b[49m\u001b[43msql_dialect\u001b[49m\u001b[38;5;241;43m=\u001b[39;49m\u001b[43msql_dialect\u001b[49m\u001b[43m,\u001b[49m\n\u001b[0;32m    213\u001b[0m \u001b[43m    \u001b[49m\u001b[43mreturn_fids\u001b[49m\u001b[38;5;241;43m=\u001b[39;49m\u001b[43mreturn_fids\u001b[49m\u001b[43m,\u001b[49m\n\u001b[0;32m    214\u001b[0m \u001b[43m    \u001b[49m\u001b[43mdataset_kwargs\u001b[49m\u001b[38;5;241;43m=\u001b[39;49m\u001b[43mdataset_kwargs\u001b[49m\u001b[43m,\u001b[49m\n\u001b[0;32m    215\u001b[0m \u001b[43m    \u001b[49m\u001b[43mdatetime_as_string\u001b[49m\u001b[38;5;241;43m=\u001b[39;49m\u001b[43mdatetime_as_string\u001b[49m\u001b[43m,\u001b[49m\n\u001b[0;32m    216\u001b[0m \u001b[43m\u001b[49m\u001b[43m)\u001b[49m\n",
      "File \u001b[1;32mpyogrio\\\\_io.pyx:1240\u001b[0m, in \u001b[0;36mpyogrio._io.ogr_read\u001b[1;34m()\u001b[0m\n",
      "File \u001b[1;32mpyogrio\\\\_io.pyx:220\u001b[0m, in \u001b[0;36mpyogrio._io.ogr_open\u001b[1;34m()\u001b[0m\n",
      "\u001b[1;31mDataSourceError\u001b[0m: Unable to open c:\\Users\\gpaul\\Documents\\GitHub\\bluespruce\\tl_2024_us_county.shx or c:\\Users\\gpaul\\Documents\\GitHub\\bluespruce\\tl_2024_us_county.SHX. Set SHAPE_RESTORE_SHX config option to YES to restore or create it."
     ]
    }
   ],
   "source": [
    "import os\n",
    "import matplotlib.pyplot as plt\n",
    "import pandas as pd\n",
    "import geopandas as gpd\n",
    "# Open up the counties boundaries\n",
    "\n",
    "cwd = os.getcwd()\n",
    "\n",
    "SHAPE_RESTORE_SHX = True\n",
    "\n",
    "print(cwd)\n",
    "\n",
    "a_path = os.path.join(cwd,'tl_2024_us_county.shp')\n",
    "\n",
    "print(a_path)\n",
    "\n",
    "counties_gdf = (\n",
    "     gpd.read_file(a_path)\n",
    ") \n",
    "\n",
    "counties_gdf.head\n",
    "\n",
    "\n",
    "# # We'll name the index so it will match the other data\n",
    "# counties_gdf.index.name = 'FIPS'\n",
    "\n",
    "# # Plot the ecoregions to check download\n",
    "# counties_gdf.plot(edgecolor='black', color='skyblue')"
   ]
  },
  {
   "cell_type": "code",
   "execution_count": null,
   "metadata": {},
   "outputs": [],
   "source": [
    "import os\n",
    "import geopandas as gpd\n",
    "\n",
    "# Current working directory\n",
    "cwd = os.getcwd()\n",
    "\n",
    "# Path to shapefile\n",
    "a_path = os.path.join(cwd, 'tl_2024_us_county.shp')\n",
    "\n",
    "# Check if the .shx file exists\n",
    "shx_path = os.path.splitext(a_path)[0] + '.shx'\n",
    "\n",
    "if not os.path.exists(shx_path):\n",
    "    print(f\".shx file is missing at {shx_path}. Attempting to regenerate...\")\n",
    "\n",
    "    # Read the shapefile without .shx (if possible)\n",
    "    counties_gdf = gpd.read_file(a_path)\n",
    "\n",
    "    # Write it back to recreate missing .shx file\n",
    "    counties_gdf.to_file(a_path)\n",
    "\n",
    "    print(\".shx file successfully regenerated.\")\n",
    "else:\n",
    "    # If .shx exists, load the GeoDataFrame as usual\n",
    "    counties_gdf = gpd.read_file(a_path)\n",
    "\n",
    "# Display the first few rows of the GeoDataFrame\n",
    "print(counties_gdf.head)\n",
    "\n",
    "counties_gdf.STATEFP\n"
   ]
  },
  {
   "cell_type": "code",
   "execution_count": 3,
   "metadata": {},
   "outputs": [
    {
     "ename": "NameError",
     "evalue": "name 'counties_gdf' is not defined",
     "output_type": "error",
     "traceback": [
      "\u001b[1;31m---------------------------------------------------------------------------\u001b[0m",
      "\u001b[1;31mNameError\u001b[0m                                 Traceback (most recent call last)",
      "Cell \u001b[1;32mIn[3], line 3\u001b[0m\n\u001b[0;32m      1\u001b[0m \u001b[38;5;28;01mimport\u001b[39;00m \u001b[38;5;21;01mgeopandas\u001b[39;00m    \n\u001b[1;32m----> 3\u001b[0m boulder_gdf \u001b[38;5;241m=\u001b[39m \u001b[43mcounties_gdf\u001b[49m[(counties_gdf\u001b[38;5;241m.\u001b[39mSTATEFP\u001b[38;5;241m==\u001b[39m\u001b[38;5;124m'\u001b[39m\u001b[38;5;124m08\u001b[39m\u001b[38;5;124m'\u001b[39m) \u001b[38;5;241m&\u001b[39m (counties_gdf\u001b[38;5;241m.\u001b[39mNAME\u001b[38;5;241m==\u001b[39m\u001b[38;5;124m'\u001b[39m\u001b[38;5;124mBoulder\u001b[39m\u001b[38;5;124m'\u001b[39m)]\n\u001b[0;32m      5\u001b[0m \u001b[38;5;66;03m## Go back later and try to get this directly from the census site rather than local files.\u001b[39;00m\n\u001b[0;32m      6\u001b[0m \n\u001b[0;32m      7\u001b[0m \u001b[38;5;66;03m# Define the path for the output shapefile\u001b[39;00m\n\u001b[0;32m      8\u001b[0m output_path \u001b[38;5;241m=\u001b[39m \u001b[38;5;124m'\u001b[39m\u001b[38;5;124mboulder_county.shp\u001b[39m\u001b[38;5;124m'\u001b[39m\n",
      "\u001b[1;31mNameError\u001b[0m: name 'counties_gdf' is not defined"
     ]
    }
   ],
   "source": [
    "import geopandas    \n",
    "\n",
    "boulder_gdf = counties_gdf[(counties_gdf.STATEFP=='08') & (counties_gdf.NAME=='Boulder')]\n",
    "\n",
    "## Go back later and try to get this directly from the census site rather than local files.\n",
    "\n",
    "# Define the path for the output shapefile\n",
    "output_path = 'boulder_county.shp'\n",
    "\n",
    "# Write the GeoDataFrame to a shapefile\n",
    "boulder_gdf.to_file(output_path, driver='ESRI Shapefile')\n",
    "\n",
    "boulder_gdf.plot()\n"
   ]
  },
  {
   "cell_type": "code",
   "execution_count": null,
   "metadata": {},
   "outputs": [],
   "source": [
    "ar_path = os.path.join(cwd, 'tl_2024_08013_areawater.shp')\n",
    "li_path = os.path.join(cwd, 'tl_2024_08013_linearwater.shp')\n",
    "\n",
    "# Create a new plot\n",
    "fig, ax = plt.subplots(figsize=(10, 10))\n",
    "      \n",
    "boulder_areawater_gdf = gpd.read_file(ar_path)\n",
    "boulder_linearwater_gdf = gpd.read_file(li_path)\n",
    "\n",
    "boulder_gdf.boundary.plot(ax=ax, edgecolor='red', linewidth=2, label='Boulder County')\n",
    "boulder_areawater_gdf.plot(ax=ax, color='blue', alpha=0.6, label='Area Water')\n",
    "boulder_linearwater_gdf.plot(ax=ax, color='blue', linewidth=0.5, label='Linear Water')"
   ]
  },
  {
   "cell_type": "code",
   "execution_count": null,
   "metadata": {},
   "outputs": [],
   "source": [
    "boulder_linearwater_gdf.head"
   ]
  },
  {
   "cell_type": "code",
   "execution_count": null,
   "metadata": {},
   "outputs": [],
   "source": [
    "%store boulder_gdf boulder_areawater_gdf boulder_linearwater_gdf"
   ]
  },
  {
   "cell_type": "code",
   "execution_count": null,
   "metadata": {},
   "outputs": [],
   "source": []
  },
  {
   "cell_type": "markdown",
   "metadata": {},
   "source": [
    "### everything past this is prototype"
   ]
  },
  {
   "cell_type": "code",
   "execution_count": null,
   "metadata": {},
   "outputs": [],
   "source": [
    "# Import for census\n",
    "# import matplotlib.pyplot as plt\n",
    "# import pandas as pd\n",
    "# import geopandas as gpd\n",
    "# from census import Census  # not working\n",
    "# from us import states\n",
    "# import os\n",
    "\n",
    "# # Set API key\n",
    "# c = Census(\"075f630f0c4b15e3a0c683e5bdd1\")"
   ]
  },
  {
   "cell_type": "code",
   "execution_count": null,
   "metadata": {},
   "outputs": [],
   "source": [
    "# import rioxarray as rxr\n",
    "\n",
    "# soil_url_template = (\n",
    "#     \"http://hydrology....POLARIS\n",
    "#     \"/ph\"\n",
    "#     \"/mean\"\n",
    "#     \"60_100\"\n",
    "#     \"/lat{min_lat}{max_la}_lon{max_lon}{min_lon}.tif   # because negative vs W listing\n",
    "# )\n",
    "\n",
    "# min_lat=26\n",
    "# min_lon=80\n",
    "\n",
    "# soil_da\n"
   ]
  }
 ],
 "metadata": {
  "kernelspec": {
   "display_name": "earth-analytics-python",
   "language": "python",
   "name": "python3"
  },
  "language_info": {
   "codemirror_mode": {
    "name": "ipython",
    "version": 3
   },
   "file_extension": ".py",
   "mimetype": "text/x-python",
   "name": "python",
   "nbconvert_exporter": "python",
   "pygments_lexer": "ipython3",
   "version": "3.11.10"
  }
 },
 "nbformat": 4,
 "nbformat_minor": 2
}
