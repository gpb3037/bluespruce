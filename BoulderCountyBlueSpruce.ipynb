{
 "cells": [
  {
   "cell_type": "code",
   "execution_count": null,
   "metadata": {},
   "outputs": [],
   "source": [
    "# https://www.gbif.org/species/search?q=Picea%20pungens\n",
    "\n",
    "# https://www.gbif.org/species/5284871\n",
    "\n",
    "# https://idiv-biodiversity.github.io/2019_big_data_biogeography/tue_download_GBIF_data.html # example download code\n",
    "\n",
    "# https://www.gbif.org/article/1E6v02SFQyhupvB7JqDXPN/citation-widget  #citations\n",
    "# GBIF.org (01 December 2024) GBIF Occurrence Download https://doi.org/10.15468/dl.sh3dt5\n",
    "# Geometry POLYGON((-106 39,-15 39,-15 41,-106 41,-106 39))\n",
    "# Scientific name Picea pungens Engelm.\n",
    "# Year Between start of 2015 and end of 2024\n",
    "# Licence CC BY-NC 4.0\n",
    "# File 166 KB Darwin Core Archive\n",
    "# Involved datasets 6\n",
    "# Involved publishers 5\n",
    "# Involved publishing countries 2\n",
    "\n",
    "# to match arc second downloads of other data use 39-41 deg N and -106 to -105 W\n"
   ]
  }
 ],
 "metadata": {
  "kernelspec": {
   "display_name": "earth-analytics-python",
   "language": "python",
   "name": "python3"
  },
  "language_info": {
   "codemirror_mode": {
    "name": "ipython",
    "version": 3
   },
   "file_extension": ".py",
   "mimetype": "text/x-python",
   "name": "python",
   "nbconvert_exporter": "python",
   "pygments_lexer": "ipython3",
   "version": "3.11.10"
  }
 },
 "nbformat": 4,
 "nbformat_minor": 2
}
